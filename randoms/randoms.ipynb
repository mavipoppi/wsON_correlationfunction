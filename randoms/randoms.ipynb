{
 "cells": [
  {
   "cell_type": "code",
   "execution_count": 1,
   "id": "4793393f",
   "metadata": {},
   "outputs": [],
   "source": [
    "import numpy as np\n",
    "import matplotlib.pyplot as plt\n",
    "import pandas as pd"
   ]
  },
  {
   "cell_type": "code",
   "execution_count": null,
   "id": "5c8d7cb4",
   "metadata": {},
   "outputs": [],
   "source": [
    "data = pd.read_csv('/ALFALFA_RA_113-155_DEC_0-18_2081objects.csv') # put your file here\n",
    "ra = data['RAdeg_HI']\n",
    "dec = data['DECdeg_HI']"
   ]
  },
  {
   "cell_type": "code",
   "execution_count": null,
   "id": "814bed7a",
   "metadata": {},
   "outputs": [],
   "source": [
    "def generate_randoms(ra, dec, n):\n",
    "    # generating random values for RA (uniformly between ra.min() and ra.max())\n",
    "    ra_random = np.random.uniform(ra.min(), ra.max(), n)\n",
    "    \n",
    "    # generating random values for DEC (using the sine range of the declinations)\n",
    "    dec_random_sin = np.random.uniform(np.sin(np.deg2rad(dec.min())), np.sin(np.deg2rad(dec.max())), n)\n",
    "    \n",
    "    # Converting back to declination scale in degrees\n",
    "    dec_random = np.rad2deg(np.arcsin(dec_random_sin))\n",
    "    \n",
    "    return ra_random, dec_random\n",
    "\n",
    "# Saving generated data in files\n",
    "def save_randoms(ra_random, dec_random, i, directory):\n",
    "    # Organizing RA and Dec coordinates in a matrix whose columns are formed by RA and DEC\n",
    "    H = np.column_stack((ra_random, dec_random))\n",
    "    \n",
    "    # Saving the file with the generated data\n",
    "    random_cat = f'{directory}/random_{i}.dat'\n",
    "    np.savetxt(random_cat, H, delimiter='\\t', header='ra\\tdec', comments='')\n",
    "\n",
    "n = len(data)  # number of random points to generate\n",
    "directory = '/randoms' # change to the respective directory on your computer \n",
    "\n",
    "# Generating and saving data\n",
    "for i in range(10):\n",
    "    ra_random, dec_random = generate_randoms(ra, dec, n)\n",
    "    save_randoms(ra_random, dec_random, i, directory)"
   ]
  }
 ],
 "metadata": {
  "kernelspec": {
   "display_name": "mock",
   "language": "python",
   "name": "python3"
  },
  "language_info": {
   "codemirror_mode": {
    "name": "ipython",
    "version": 3
   },
   "file_extension": ".py",
   "mimetype": "text/x-python",
   "name": "python",
   "nbconvert_exporter": "python",
   "pygments_lexer": "ipython3",
   "version": "3.12.9"
  }
 },
 "nbformat": 4,
 "nbformat_minor": 5
}
